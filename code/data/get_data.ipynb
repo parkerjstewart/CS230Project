{
 "cells": [
  {
   "cell_type": "code",
   "execution_count": null,
   "metadata": {},
   "outputs": [],
   "source": [
    "import os\n",
    "import requests\n",
    "import zipfile\n",
    "import shutil"
   ]
  },
  {
   "cell_type": "code",
   "execution_count": null,
   "metadata": {},
   "outputs": [],
   "source": [
    "DATA_FOLDER_PATH = \"../../data\"\n",
    "DATASET_URL = \"https://zenodo.org/api/records/5528418/files-archive\"\n",
    "ZIP_FILE_PATH = os.path.join(DATA_FOLDER_PATH, \"dataset.zip\")"
   ]
  },
  {
   "cell_type": "markdown",
   "metadata": {},
   "source": [
    "THIS FILE GOT CORRUPTED - COME BACK AND REDO THIS :C"
   ]
  }
 ],
 "metadata": {
  "kernelspec": {
   "display_name": "CS230Project",
   "language": "python",
   "name": "python3"
  },
  "language_info": {
   "name": "python",
   "version": "3.9.16"
  }
 },
 "nbformat": 4,
 "nbformat_minor": 2
}
